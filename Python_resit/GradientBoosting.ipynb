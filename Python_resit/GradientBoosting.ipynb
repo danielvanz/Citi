{
 "cells": [
  {
   "cell_type": "code",
   "execution_count": 56,
   "metadata": {},
   "outputs": [],
   "source": [
    "# data wrangling\n",
    "import pandas as pd\n",
    "import numpy as np\n",
    "\n",
    "# plotting\n",
    "import matplotlib.pyplot as plt\n",
    "\n",
    "# other\n",
    "import time\n",
    "\n",
    "# sklearn\n",
    "from sklearn.model_selection import train_test_split\n",
    "from sklearn.neural_network import MLPClassifier\n",
    "from sklearn.ensemble import GradientBoostingClassifier\n",
    "from sklearn import tree\n",
    "#^https://scikit-learn.org/stable/modules/neural_networks_supervised.html^"
   ]
  },
  {
   "cell_type": "code",
   "execution_count": 57,
   "metadata": {},
   "outputs": [],
   "source": [
    "DATA_FILEPATH = \"../data/all_hourly_data.h5\"\n",
    "patients = pd.read_hdf(DATA_FILEPATH, \"patients\")\n",
    "vitals_labs_mean = pd.read_hdf(DATA_FILEPATH, \"vitals_labs_mean\")\n",
    "interventions = pd.read_hdf(DATA_FILEPATH, \"interventions\")"
   ]
  },
  {
   "cell_type": "code",
   "execution_count": 58,
   "metadata": {},
   "outputs": [],
   "source": [
    "\"\"\"\n",
    "Task Formulation: predict whether a patient will die, given the first 24 hours of their stay\n",
    "\"\"\"\n",
    "\n",
    "# SETTINGS\n",
    "window_size = 24  # the first WINDOW_SIZE hours of the patient's stay\n",
    "gap_time = 6  # the number of hours the patient lived at least after the first WINDOW_SIZE hours (to avoid label leakage, see MIMIC-III Extract paper)\n",
    "test_size = 0.2  # proportion of the data that wil lbe used for testing\n",
    "val_size = 0.125  # proportion of the training data that will be used for validation\n",
    "random_state = 42  # random state is used to set a seed for randomness, which is only relevant for reproducibility purposes\n",
    "max_missing = 0.8  # maximum percentage of missing values after forward fill for a measurement to be dropped"
   ]
  },
  {
   "cell_type": "code",
   "execution_count": 59,
   "metadata": {},
   "outputs": [
    {
     "name": "stdout",
     "output_type": "stream",
     "text": [
      "0    10000\n",
      "1    10000\n",
      "Name: mort_icu, dtype: int64\n"
     ]
    }
   ],
   "source": [
    "patients_intermediate = pd.DataFrame();\n",
    "\n",
    "for i in range(10):\n",
    "    patients_intermediate = pd.concat([patients_intermediate, patients.groupby('mort_icu', group_keys=False).apply(lambda x: x.sample(1000))])\n",
    "print(patients_intermediate[\"mort_icu\"].value_counts())"
   ]
  },
  {
   "cell_type": "code",
   "execution_count": 60,
   "metadata": {},
   "outputs": [
    {
     "name": "stdout",
     "output_type": "stream",
     "text": [
      "Time: 18.36s\n",
      "Train set: 13994 rows, 1903 columns\n",
      "Validation set: 1938 rows, 1903 columns\n",
      "Test set: 4068 rows, 1903 columns\n"
     ]
    }
   ],
   "source": [
    "start_time = time.time()\n",
    "\n",
    "\"\"\"PREPARE VITALS LABES AND INTERVENTIONS\"\"\"\n",
    "# select first 24 hours of patient data for ICU stays of selected patients\n",
    "X = vitals_labs_mean.droplevel(\n",
    "    level=\"Aggregation Function\", axis=1\n",
    ").copy()  # drop constant 'mean' level\n",
    "X = X.join(interventions)  # add interventions\n",
    "X = X[\n",
    "    (\n",
    "        X.index.get_level_values(\"icustay_id\").isin(\n",
    "            set(patients_intermediate[\"mort_icu\"].index.get_level_values(\"icustay_id\"))\n",
    "        )\n",
    "    )\n",
    "    & (X.index.get_level_values(\"hours_in\") < 24)\n",
    "]\n",
    "\n",
    "# reset index so only subject_id is in index\n",
    "# y = y.reset_index(level=[\"hadm_id\", \"icustay_id\"], drop=True)\n",
    "X = X.reset_index(level=[\"hadm_id\", \"icustay_id\"], drop=True).unstack()\n",
    "\n",
    "X = X.groupby(level=[\"subject_id\"]).cumsum()\n",
    "\n",
    "\n",
    "\"\"\"SPLIT DATA\"\"\"\n",
    "# define train/test split based on index\n",
    "X_train_r, X_test_r = train_test_split(\n",
    "    X, test_size=test_size, random_state=random_state\n",
    ")\n",
    "X_train_r, X_val_r = train_test_split(\n",
    "    X_train_r, test_size=val_size, random_state=random_state\n",
    ")\n",
    "\n",
    "\"\"\"IMPUTE MISSING VALUES\"\"\"\n",
    "# compute mean and std of raw values\n",
    "mean = X_train_r.stack().mean(axis=0)\n",
    "std = X_train_r.stack().std(axis=0)\n",
    "\n",
    "# forward fill missing values\n",
    "X_train = X_train_r.copy().stack(dropna=False).groupby(\"subject_id\").ffill()\n",
    "X_test = X_test_r.copy().stack(dropna=False).groupby(\"subject_id\").ffill()\n",
    "X_val = X_val_r.copy().stack(dropna=False).groupby(\"subject_id\").ffill()\n",
    "\n",
    "# remove features with too many missing values\n",
    "missing = X_train.isna().sum() > max_missing * len(X_train)\n",
    "missing = missing[missing].index\n",
    "X_train = X_train.drop(missing, axis=1)\n",
    "X_val = X_val.drop(missing, axis=1)\n",
    "X_test = X_test.drop(missing, axis=1)\n",
    "\n",
    "# impute remaining missing values with the mean of original data and get to hourly\n",
    "means = X_train_r.stack().mean(\n",
    "    axis=0\n",
    ")  # get average of hourly measurement value for each feature\n",
    "X_train = X_train.fillna(means).unstack()\n",
    "X_test = X_test.fillna(means).unstack()\n",
    "X_val = X_val.fillna(means).unstack()\n",
    "\n",
    "\"\"\"ADD DEMOGRAPHICS\"\"\"\n",
    "# convert gender to boolean feature\n",
    "demo = pd.get_dummies(patients_intermediate[[\"gender\"]], drop_first=True)\n",
    "demo[\"mort_icu\"] = patients_intermediate[\"mort_icu\"]\n",
    "\n",
    "\n",
    "# replace age of people older than 89 by 90\n",
    "demo[\"age\"] = patients_intermediate[\"age\"]\n",
    "demo.loc[demo[demo[\"age\"] >= 90].index, \"age\"] = 90\n",
    "\n",
    "# create ethnicity columns\n",
    "demo[\"white\"] = patients_intermediate[\"ethnicity\"].str.contains(\"WHITE\")\n",
    "demo[\"black\"] = patients_intermediate[\"ethnicity\"].str.contains(\"BLACK\")\n",
    "demo[\"asian\"] = patients_intermediate[\"ethnicity\"].str.contains(\"ASIAN\")\n",
    "demo[\"hispanic\"] = patients_intermediate[\"ethnicity\"].str.contains(\"HISPANIC\")\n",
    "demo[\"other/unknown\"] = ~(\n",
    "    demo[\"white\"] | demo[\"black\"] | demo[\"asian\"] | demo[\"hispanic\"]\n",
    ")\n",
    "\n",
    "# reset index to remove icu id and hadm id\n",
    "demo = demo.reset_index(level=[1, 2], drop=True)\n",
    "demo.columns = pd.MultiIndex.from_product([demo.columns, [-1]])\n",
    "\n",
    "# add demographics to dataframes\n",
    "X_train = X_train.join(demo)\n",
    "X_val = X_val.join(demo)\n",
    "X_test = X_test.join(demo)\n",
    "\n",
    "# combine column levels\n",
    "X_train.columns = X_train.columns.map('{0[0]}|{0[1]}'.format)\n",
    "X_val.columns = X_val.columns.map('{0[0]}|{0[1]}'.format)\n",
    "X_test.columns = X_test.columns.map('{0[0]}|{0[1]}'.format)\n",
    "\n",
    "# reset index once more\n",
    "X_train.reset_index(inplace = True, drop = True)\n",
    "X_val.reset_index(inplace = True, drop = True)\n",
    "X_test.reset_index(inplace = True, drop = True)\n",
    "\n",
    "# get y variables\n",
    "y_train = X_train[\"mort_icu|-1\"]\n",
    "y_val = X_val[\"mort_icu|-1\"]\n",
    "y_test = X_test[\"mort_icu|-1\"]\n",
    "\n",
    "X_train.drop('mort_icu|-1', axis=1, inplace=True)\n",
    "X_val.drop('mort_icu|-1', axis=1, inplace=True)\n",
    "X_test.drop('mort_icu|-1', axis=1, inplace=True)\n",
    "\n",
    "X_train[X_train.select_dtypes(bool).columns] = X_train.select_dtypes(bool).astype(np.float64)\n",
    "X_val[X_val.select_dtypes(bool).columns] = X_val.select_dtypes(bool).astype(np.float64)\n",
    "X_test[X_test.select_dtypes(bool).columns] = X_test.select_dtypes(bool).astype(np.float64)\n",
    "\n",
    "\"\"\"RESET INDEX\"\"\"\n",
    "y_train = y_train.reindex(X_train.index)\n",
    "y_test = y_test.reindex(X_test.index)\n",
    "y_val = y_val.reindex(X_val.index)\n",
    "\n",
    "\"\"\"PRINT STATS\"\"\"\n",
    "print(\"Time: %.2fs\" % (time.time() - start_time))\n",
    "print(\"Train set: %s rows, %s columns\" % X_train.shape)\n",
    "print(\"Validation set: %s rows, %s columns\" % X_val.shape)\n",
    "print(\"Test set: %s rows, %s columns\" % X_test.shape)"
   ]
  },
  {
   "cell_type": "code",
   "execution_count": 61,
   "metadata": {},
   "outputs": [],
   "source": [
    "def TP(y_true, y_pred):\n",
    "    return np.sum(np.logical_and(y_true == 1.0, y_pred == 1.0))\n",
    "\n",
    "def FP(y_true, y_pred):\n",
    "    return np.sum(np.logical_and(y_true == 0.0, y_pred == 1.0))\n",
    "\n",
    "def FN(y_true, y_pred):\n",
    "    return np.sum(np.logical_and(y_true == 1.0, y_pred == 0.0))\n",
    "\n",
    "def TN(y_true, y_pred):\n",
    "    return np.sum(np.logical_and(y_true == 0.0, y_pred == 0.0))\n",
    "\n",
    "def TPR(y_true, y_pred):\n",
    "    return TP(y_true, y_pred)/(TP(y_true, y_pred) + FN(y_true, y_pred))\n",
    "\n",
    "def FPR(y_true, y_pred):\n",
    "    return FP(y_true, y_pred)/(FP(y_true, y_pred) + TN(y_true, y_pred))"
   ]
  },
  {
   "cell_type": "code",
   "execution_count": 67,
   "metadata": {},
   "outputs": [
    {
     "data": {
      "text/plain": [
       "GradientBoostingRegressor(n_estimators=200)"
      ]
     },
     "execution_count": 67,
     "metadata": {},
     "output_type": "execute_result"
    }
   ],
   "source": [
    "from sklearn.ensemble import GradientBoostingRegressor\n",
    "\n",
    "\n",
    "neural_network_classifier = GradientBoostingRegressor()\n",
    "neural_network_classifier.fit(X_train, y_train)"
   ]
  },
  {
   "cell_type": "code",
   "execution_count": 68,
   "metadata": {},
   "outputs": [
    {
     "name": "stdout",
     "output_type": "stream",
     "text": [
      "True positives count: 734\n",
      "False positives count: 86\n",
      "False negatives count: 202\n",
      "True negatives count: 916\n",
      "True positive rate: 0.7841880341880342\n",
      "False positive rate: 0.08582834331337326\n"
     ]
    }
   ],
   "source": [
    "y_true = y_val.to_numpy()\n",
    "y_pred = np.where(neural_network_classifier.predict(X_val) > 0.5, 1, 0)\n",
    "\n",
    "print(\"True positives count: \" + str(TP(y_true, y_pred)))\n",
    "print(\"False positives count: \" + str(FP(y_true, y_pred)))\n",
    "print(\"False negatives count: \" + str(FN(y_true, y_pred)))\n",
    "print(\"True negatives count: \" + str(TN(y_true, y_pred)))\n",
    "print(\"True positive rate: \" + str(TPR(y_true, y_pred)))\n",
    "print(\"False positive rate: \" + str(FPR(y_true, y_pred)))"
   ]
  },
  {
   "cell_type": "code",
   "execution_count": 69,
   "metadata": {},
   "outputs": [],
   "source": [
    "df_func = pd.DataFrame(columns=['TPR', 'FPR', 'diff'])\n",
    "for i in range(0, 101):\n",
    "    y_pred = np.where(neural_network_classifier.predict(X_val) > i/100, 1, 0)\n",
    "    df_func.loc[len(df_func)] = [TPR(y_true, y_pred), FPR(y_true, y_pred),TPR(y_true, y_pred) - FPR(y_true, y_pred) ]"
   ]
  },
  {
   "cell_type": "code",
   "execution_count": 70,
   "metadata": {},
   "outputs": [
    {
     "data": {
      "text/plain": [
       "<AxesSubplot:>"
      ]
     },
     "execution_count": 70,
     "metadata": {},
     "output_type": "execute_result"
    },
    {
     "data": {
      "image/png": "[encoded data removed]",
      "text/plain": [
       "<Figure size 432x288 with 1 Axes>"
      ]
     },
     "metadata": {
      "needs_background": "light"
     },
     "output_type": "display_data"
    }
   ],
   "source": [
    "df_func.plot.line()"
   ]
  }
 ],
 "metadata": {
  "kernelspec": {
   "display_name": "Python 3.10.4 64-bit",
   "language": "python",
   "name": "python3"
  },
  "language_info": {
   "codemirror_mode": {
    "name": "ipython",
    "version": 3
   },
   "file_extension": ".py",
   "mimetype": "text/x-python",
   "name": "python",
   "nbconvert_exporter": "python",
   "pygments_lexer": "ipython3",
   "version": "3.10.4"
  },
  "orig_nbformat": 4,
  "vscode": {
   "interpreter": {
    "hash": "52c95d02f1bfe7c59da35d3ff8fa76f7d162251a8bf0068369a0a87df4b3e5e7"
   }
  }
 },
 "nbformat": 4,
 "nbformat_minor": 2
}
