{
 "cells": [
  {
   "cell_type": "code",
   "execution_count": 3,
   "metadata": {},
   "outputs": [],
   "source": [
    "# data wrangling\n",
    "import pandas as pd\n",
    "import numpy as np\n",
    "\n",
    "# plotting\n",
    "import matplotlib.pyplot as plt\n",
    "\n",
    "# other\n",
    "import time\n",
    "\n",
    "# sklearn\n",
    "from sklearn.model_selection import train_test_split\n",
    "from sklearn.neural_network import MLPClassifier\n",
    "#^https://scikit-learn.org/stable/modules/neural_networks_supervised.html^"
   ]
  },
  {
   "cell_type": "code",
   "execution_count": 4,
   "metadata": {},
   "outputs": [],
   "source": [
    "DATA_FILEPATH = \"../data/all_hourly_data.h5\"\n",
    "patients = pd.read_hdf(DATA_FILEPATH, \"patients\")\n",
    "vitals_labs_mean = pd.read_hdf(DATA_FILEPATH, \"vitals_labs_mean\")\n",
    "interventions = pd.read_hdf(DATA_FILEPATH, \"interventions\")"
   ]
  },
  {
   "cell_type": "code",
   "execution_count": 5,
   "metadata": {},
   "outputs": [],
   "source": [
    "\"\"\"\n",
    "Task Formulation: predict whether a patient will die, given the first 24 hours of their stay\n",
    "\"\"\"\n",
    "\n",
    "# SETTINGS\n",
    "window_size = 24  # the first WINDOW_SIZE hours of the patient's stay\n",
    "gap_time = 6  # the number of hours the patient lived at least after the first WINDOW_SIZE hours (to avoid label leakage, see MIMIC-III Extract paper)\n",
    "test_size = 0.2  # proportion of the data that wil lbe used for testing\n",
    "val_size = 0.125  # proportion of the training data that will be used for validation\n",
    "random_state = 42  # random state is used to set a seed for randomness, which is only relevant for reproducibility purposes\n",
    "max_missing = 0.8  # maximum percentage of missing values after forward fill for a measurement to be dropped"
   ]
  },
  {
   "cell_type": "code",
   "execution_count": 6,
   "metadata": {},
   "outputs": [
    {
     "name": "stdout",
     "output_type": "stream",
     "text": [
      "Time: 13.09s\n",
      "Train set: 24129 rows, 1879 columns\n",
      "Validation set: 3448 rows, 1879 columns\n",
      "Test set: 6895 rows, 1879 columns\n"
     ]
    }
   ],
   "source": [
    "start_time = time.time()\n",
    "\n",
    "\"\"\"PREPARE VITALS LABES AND INTERVENTIONS\"\"\"\n",
    "# get target variable (died in ICU) of patients that stayed at least GAP_TIME + WINDOW_SIZE hours in the ICU\n",
    "y = patients[\"mort_icu\"]\n",
    "\n",
    "# select first 24 hours of patient data for ICU stays of selected patients\n",
    "X = vitals_labs_mean.droplevel(\n",
    "    level=\"Aggregation Function\", axis=1\n",
    ").copy()  # drop constant 'mean' level\n",
    "X = X.join(interventions)  # add interventions\n",
    "X = X[\n",
    "    (\n",
    "        X.index.get_level_values(\"icustay_id\").isin(\n",
    "            set(y.index.get_level_values(\"icustay_id\"))\n",
    "        )\n",
    "    )\n",
    "    & (X.index.get_level_values(\"hours_in\") < 24)\n",
    "]\n",
    "\n",
    "# reset index so only subject_id is in index\n",
    "y = y.reset_index(level=[\"hadm_id\", \"icustay_id\"], drop=True)\n",
    "X = X.reset_index(level=[\"hadm_id\", \"icustay_id\"], drop=True).unstack()\n",
    "\n",
    "\n",
    "\"\"\"SPLIT DATA\"\"\"\n",
    "# define train/test split based on index\n",
    "X_train_r, X_test_r, y_train, y_test = train_test_split(\n",
    "    X, y, test_size=test_size, random_state=random_state\n",
    ")\n",
    "X_train_r, X_val_r, y_train, y_val = train_test_split(\n",
    "    X_train_r, y_train, test_size=val_size, random_state=random_state\n",
    ")\n",
    "\n",
    "\"\"\"IMPUTE MISSING VALUES\"\"\"\n",
    "# compute mean and std of raw values\n",
    "mean = X_train_r.stack().mean(axis=0)\n",
    "std = X_train_r.stack().std(axis=0)\n",
    "\n",
    "# forward fill missing values\n",
    "X_train = X_train_r.copy().stack(dropna=False).groupby(\"subject_id\").ffill()\n",
    "X_test = X_test_r.copy().stack(dropna=False).groupby(\"subject_id\").ffill()\n",
    "X_val = X_val_r.copy().stack(dropna=False).groupby(\"subject_id\").ffill()\n",
    "\n",
    "# remove features with too many missing values\n",
    "missing = X_train.isna().sum() > max_missing * len(X_train)\n",
    "missing = missing[missing].index\n",
    "X_train = X_train.drop(missing, axis=1)\n",
    "X_val = X_val.drop(missing, axis=1)\n",
    "X_test = X_test.drop(missing, axis=1)\n",
    "\n",
    "# impute remaining missing values with the mean of original data and get to hourly\n",
    "means = X_train_r.stack().mean(\n",
    "    axis=0\n",
    ")  # get average of hourly measurement value for each feature\n",
    "X_train = X_train.fillna(means).unstack()\n",
    "X_test = X_test.fillna(means).unstack()\n",
    "X_val = X_val.fillna(means).unstack()\n",
    "\n",
    "\"\"\"ADD DEMOGRAPHICS\"\"\"\n",
    "# convert gender to boolean feature\n",
    "demo = pd.get_dummies(patients[[\"gender\"]], drop_first=True)\n",
    "\n",
    "# replace age of people older than 89 by 90\n",
    "demo[\"age\"] = patients[\"age\"]\n",
    "demo.loc[demo[demo[\"age\"] >= 90].index, \"age\"] = 90\n",
    "\n",
    "# create ethnicity columns\n",
    "demo[\"white\"] = patients[\"ethnicity\"].str.contains(\"WHITE\")\n",
    "demo[\"black\"] = patients[\"ethnicity\"].str.contains(\"BLACK\")\n",
    "demo[\"asian\"] = patients[\"ethnicity\"].str.contains(\"ASIAN\")\n",
    "demo[\"hispanic\"] = patients[\"ethnicity\"].str.contains(\"HISPANIC\")\n",
    "demo[\"other/unknown\"] = ~(\n",
    "    demo[\"white\"] | demo[\"black\"] | demo[\"asian\"] | demo[\"hispanic\"]\n",
    ")\n",
    "\n",
    "# reset index to remove icu id and hadm id\n",
    "demo = demo.reset_index(level=[1, 2], drop=True)\n",
    "demo.columns = pd.MultiIndex.from_product([demo.columns, [-1]])\n",
    "\n",
    "# add demographics to dataframes\n",
    "X_train = X_train.join(demo)\n",
    "X_val = X_val.join(demo)\n",
    "X_test = X_test.join(demo)\n",
    "\n",
    "# combine column levels\n",
    "X_train.columns = X_train.columns.map('{0[0]}|{0[1]}'.format)\n",
    "X_val.columns = X_val.columns.map('{0[0]}|{0[1]}'.format)\n",
    "X_test.columns = X_test.columns.map('{0[0]}|{0[1]}'.format)\n",
    "\n",
    "\"\"\"RESET INDEX\"\"\"\n",
    "y_train = y_train.reindex(X_train.index)\n",
    "y_test = y_test.reindex(X_test.index)\n",
    "y_val = y_val.reindex(X_val.index)\n",
    "\n",
    "\"\"\"PRINT STATS\"\"\"\n",
    "print(\"Time: %.2fs\" % (time.time() - start_time))\n",
    "print(\"Train set: %s rows, %s columns\" % X_train.shape)\n",
    "print(\"Validation set: %s rows, %s columns\" % X_val.shape)\n",
    "print(\"Test set: %s rows, %s columns\" % X_test.shape)"
   ]
  },
  {
   "cell_type": "code",
   "execution_count": 9,
   "metadata": {},
   "outputs": [],
   "source": [
    "def TP(y_true, y_pred):\n",
    "    return np.sum(np.logical_and(y_true == 1.0, y_pred == 1.0))\n",
    "\n",
    "def FP(y_true, y_pred):\n",
    "    return np.sum(np.logical_and(y_true == 0.0, y_pred == 1.0))\n",
    "\n",
    "def FN(y_true, y_pred):\n",
    "    return np.sum(np.logical_and(y_true == 1.0, y_pred == 0.0))\n",
    "\n",
    "def TN(y_true, y_pred):\n",
    "    return np.sum(np.logical_and(y_true == 0.0, y_pred == 0.0))\n",
    "\n",
    "def TPR(y_true, y_pred):\n",
    "    return TP(y_true, y_pred)/(TP(y_true, y_pred) + FN(y_true, y_pred))\n",
    "\n",
    "def FPR(y_true, y_pred):\n",
    "    return FP(y_true, y_pred)/(FP(y_true, y_pred) + TN(y_true, y_pred))"
   ]
  },
  {
   "cell_type": "code",
   "execution_count": 7,
   "metadata": {},
   "outputs": [
    {
     "data": {
      "text/html": [
       "<style>#sk-container-id-1 {color: black;background-color: white;}#sk-container-id-1 pre{padding: 0;}#sk-container-id-1 div.sk-toggleable {background-color: white;}#sk-container-id-1 label.sk-toggleable__label {cursor: pointer;display: block;width: 100%;margin-bottom: 0;padding: 0.3em;box-sizing: border-box;text-align: center;}#sk-container-id-1 label.sk-toggleable__label-arrow:before {content: \"▸\";float: left;margin-right: 0.25em;color: #696969;}#sk-container-id-1 label.sk-toggleable__label-arrow:hover:before {color: black;}#sk-container-id-1 div.sk-estimator:hover label.sk-toggleable__label-arrow:before {color: black;}#sk-container-id-1 div.sk-toggleable__content {max-height: 0;max-width: 0;overflow: hidden;text-align: left;background-color: #f0f8ff;}#sk-container-id-1 div.sk-toggleable__content pre {margin: 0.2em;color: black;border-radius: 0.25em;background-color: #f0f8ff;}#sk-container-id-1 input.sk-toggleable__control:checked~div.sk-toggleable__content {max-height: 200px;max-width: 100%;overflow: auto;}#sk-container-id-1 input.sk-toggleable__control:checked~label.sk-toggleable__label-arrow:before {content: \"▾\";}#sk-container-id-1 div.sk-estimator input.sk-toggleable__control:checked~label.sk-toggleable__label {background-color: #d4ebff;}#sk-container-id-1 div.sk-label input.sk-toggleable__control:checked~label.sk-toggleable__label {background-color: #d4ebff;}#sk-container-id-1 input.sk-hidden--visually {border: 0;clip: rect(1px 1px 1px 1px);clip: rect(1px, 1px, 1px, 1px);height: 1px;margin: -1px;overflow: hidden;padding: 0;position: absolute;width: 1px;}#sk-container-id-1 div.sk-estimator {font-family: monospace;background-color: #f0f8ff;border: 1px dotted black;border-radius: 0.25em;box-sizing: border-box;margin-bottom: 0.5em;}#sk-container-id-1 div.sk-estimator:hover {background-color: #d4ebff;}#sk-container-id-1 div.sk-parallel-item::after {content: \"\";width: 100%;border-bottom: 1px solid gray;flex-grow: 1;}#sk-container-id-1 div.sk-label:hover label.sk-toggleable__label {background-color: #d4ebff;}#sk-container-id-1 div.sk-serial::before {content: \"\";position: absolute;border-left: 1px solid gray;box-sizing: border-box;top: 0;bottom: 0;left: 50%;z-index: 0;}#sk-container-id-1 div.sk-serial {display: flex;flex-direction: column;align-items: center;background-color: white;padding-right: 0.2em;padding-left: 0.2em;position: relative;}#sk-container-id-1 div.sk-item {position: relative;z-index: 1;}#sk-container-id-1 div.sk-parallel {display: flex;align-items: stretch;justify-content: center;background-color: white;position: relative;}#sk-container-id-1 div.sk-item::before, #sk-container-id-1 div.sk-parallel-item::before {content: \"\";position: absolute;border-left: 1px solid gray;box-sizing: border-box;top: 0;bottom: 0;left: 50%;z-index: -1;}#sk-container-id-1 div.sk-parallel-item {display: flex;flex-direction: column;z-index: 1;position: relative;background-color: white;}#sk-container-id-1 div.sk-parallel-item:first-child::after {align-self: flex-end;width: 50%;}#sk-container-id-1 div.sk-parallel-item:last-child::after {align-self: flex-start;width: 50%;}#sk-container-id-1 div.sk-parallel-item:only-child::after {width: 0;}#sk-container-id-1 div.sk-dashed-wrapped {border: 1px dashed gray;margin: 0 0.4em 0.5em 0.4em;box-sizing: border-box;padding-bottom: 0.4em;background-color: white;}#sk-container-id-1 div.sk-label label {font-family: monospace;font-weight: bold;display: inline-block;line-height: 1.2em;}#sk-container-id-1 div.sk-label-container {text-align: center;}#sk-container-id-1 div.sk-container {/* jupyter's `normalize.less` sets `[hidden] { display: none; }` but bootstrap.min.css set `[hidden] { display: none !important; }` so we also need the `!important` here to be able to override the default hidden behavior on the sphinx rendered scikit-learn.org. See: https://github.com/scikit-learn/scikit-learn/issues/21755 */display: inline-block !important;position: relative;}#sk-container-id-1 div.sk-text-repr-fallback {display: none;}</style><div id=\"sk-container-id-1\" class=\"sk-top-container\"><div class=\"sk-text-repr-fallback\"><pre>MLPClassifier(alpha=1e-05, hidden_layer_sizes=(5, 2), random_state=1,\n",
       "              solver=&#x27;lbfgs&#x27;)</pre><b>In a Jupyter environment, please rerun this cell to show the HTML representation or trust the notebook. <br />On GitHub, the HTML representation is unable to render, please try loading this page with nbviewer.org.</b></div><div class=\"sk-container\" hidden><div class=\"sk-item\"><div class=\"sk-estimator sk-toggleable\"><input class=\"sk-toggleable__control sk-hidden--visually\" id=\"sk-estimator-id-1\" type=\"checkbox\" checked><label for=\"sk-estimator-id-1\" class=\"sk-toggleable__label sk-toggleable__label-arrow\">MLPClassifier</label><div class=\"sk-toggleable__content\"><pre>MLPClassifier(alpha=1e-05, hidden_layer_sizes=(5, 2), random_state=1,\n",
       "              solver=&#x27;lbfgs&#x27;)</pre></div></div></div></div></div>"
      ],
      "text/plain": [
       "MLPClassifier(alpha=1e-05, hidden_layer_sizes=(5, 2), random_state=1,\n",
       "              solver='lbfgs')"
      ]
     },
     "execution_count": 7,
     "metadata": {},
     "output_type": "execute_result"
    }
   ],
   "source": [
    "neural_network_classifier = MLPClassifier(solver='lbfgs', alpha=1e-5, hidden_layer_sizes=(5, 2), random_state=1)\n",
    "neural_network_classifier.fit(X_train, y_train)"
   ]
  },
  {
   "cell_type": "code",
   "execution_count": 10,
   "metadata": {},
   "outputs": [
    {
     "name": "stdout",
     "output_type": "stream",
     "text": [
      "[0 0 0 ... 0 0 0]\n",
      "True positives count: 0\n",
      "False positives count: 0\n",
      "False negatives count: 438\n",
      "True negatives count: 6457\n",
      "True positive rate: 0.0\n",
      "False positive rate: 0.0\n"
     ]
    }
   ],
   "source": [
    "y_true = y_test.to_numpy()\n",
    "y_pred = np.round(neural_network_classifier.predict(X_test))\n",
    "\n",
    "print(y_pred)\n",
    "\n",
    "print(\"True positives count: \" + str(TP(y_true, y_pred)))\n",
    "print(\"False positives count: \" + str(FP(y_true, y_pred)))\n",
    "print(\"False negatives count: \" + str(FN(y_true, y_pred)))\n",
    "print(\"True negatives count: \" + str(TN(y_true, y_pred)))\n",
    "print(\"True positive rate: \" + str(TPR(y_true, y_pred)))\n",
    "print(\"False positive rate: \" + str(FPR(y_true, y_pred)))"
   ]
  }
 ],
 "metadata": {
  "kernelspec": {
   "display_name": "Python 3.9.0 64-bit",
   "language": "python",
   "name": "python3"
  },
  "language_info": {
   "codemirror_mode": {
    "name": "ipython",
    "version": 3
   },
   "file_extension": ".py",
   "mimetype": "text/x-python",
   "name": "python",
   "nbconvert_exporter": "python",
   "pygments_lexer": "ipython3",
   "version": "3.9.0"
  },
  "orig_nbformat": 4,
  "vscode": {
   "interpreter": {
    "hash": "5312a05d4c1062e7e99dc4a1327331a73c17135ec320657c0e8e8843948bfa85"
   }
  }
 },
 "nbformat": 4,
 "nbformat_minor": 2
}
