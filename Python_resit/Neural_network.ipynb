{
 "cells": [
  {
   "cell_type": "code",
   "execution_count": 18,
   "metadata": {},
   "outputs": [],
   "source": [
    "# data wrangling\n",
    "import pandas as pd\n",
    "import numpy as np\n",
    "\n",
    "# plotting\n",
    "import matplotlib.pyplot as plt\n",
    "\n",
    "# other\n",
    "import time\n",
    "\n",
    "# sklearn\n",
    "from sklearn.model_selection import train_test_split\n",
    "from sklearn.neural_network import MLPClassifier\n",
    "#^https://scikit-learn.org/stable/modules/neural_networks_supervised.html^"
   ]
  },
  {
   "cell_type": "code",
   "execution_count": 19,
   "metadata": {},
   "outputs": [],
   "source": [
    "DATA_FILEPATH = \"./all_hourly_data.h5\"\n",
    "patients = pd.read_hdf(DATA_FILEPATH, \"patients\")\n",
    "vitals_labs_mean = pd.read_hdf(DATA_FILEPATH, \"vitals_labs_mean\")\n",
    "interventions = pd.read_hdf(DATA_FILEPATH, \"interventions\")"
   ]
  },
  {
   "cell_type": "code",
   "execution_count": 20,
   "metadata": {},
   "outputs": [],
   "source": [
    "\"\"\"\n",
    "Task Formulation: predict whether a patient will die, given the first 24 hours of their stay\n",
    "\"\"\"\n",
    "\n",
    "# SETTINGS\n",
    "window_size = 24  # the first WINDOW_SIZE hours of the patient's stay\n",
    "gap_time = 6  # the number of hours the patient lived at least after the first WINDOW_SIZE hours (to avoid label leakage, see MIMIC-III Extract paper)\n",
    "test_size = 0.2  # proportion of the data that wil lbe used for testing\n",
    "val_size = 0.125  # proportion of the training data that will be used for validation\n",
    "random_state = 42  # random state is used to set a seed for randomness, which is only relevant for reproducibility purposes\n",
    "max_missing = 0.8  # maximum percentage of missing values after forward fill for a measurement to be dropped"
   ]
  },
  {
   "cell_type": "code",
   "execution_count": 21,
   "metadata": {},
   "outputs": [
    {
     "name": "stdout",
     "output_type": "stream",
     "text": [
      "Time: 46.86s\n",
      "Train set: 24129 rows, 1879 columns\n",
      "Validation set: 3448 rows, 1879 columns\n",
      "Test set: 6895 rows, 1879 columns\n"
     ]
    }
   ],
   "source": [
    "start_time = time.time()\n",
    "\n",
    "\"\"\"PREPARE VITALS LABES AND INTERVENTIONS\"\"\"\n",
    "# get target variable (died in ICU) of patients that stayed at least GAP_TIME + WINDOW_SIZE hours in the ICU\n",
    "y = patients[\"mort_icu\"]\n",
    "\n",
    "# select first 24 hours of patient data for ICU stays of selected patients\n",
    "X = vitals_labs_mean.droplevel(\n",
    "    level=\"Aggregation Function\", axis=1\n",
    ").copy()  # drop constant 'mean' level\n",
    "X = X.join(interventions)  # add interventions\n",
    "X = X[\n",
    "    (\n",
    "        X.index.get_level_values(\"icustay_id\").isin(\n",
    "            set(y.index.get_level_values(\"icustay_id\"))\n",
    "        )\n",
    "    )\n",
    "    & (X.index.get_level_values(\"hours_in\") < 24)\n",
    "]\n",
    "\n",
    "# reset index so only subject_id is in index\n",
    "y = y.reset_index(level=[\"hadm_id\", \"icustay_id\"], drop=True)\n",
    "X = X.reset_index(level=[\"hadm_id\", \"icustay_id\"], drop=True).unstack()\n",
    "\n",
    "\n",
    "\"\"\"SPLIT DATA\"\"\"\n",
    "# define train/test split based on index\n",
    "X_train_r, X_test_r, y_train, y_test = train_test_split(\n",
    "    X, y, test_size=test_size, random_state=random_state\n",
    ")\n",
    "X_train_r, X_val_r, y_train, y_val = train_test_split(\n",
    "    X_train_r, y_train, test_size=val_size, random_state=random_state\n",
    ")\n",
    "\n",
    "\"\"\"IMPUTE MISSING VALUES\"\"\"\n",
    "# compute mean and std of raw values\n",
    "mean = X_train_r.stack().mean(axis=0)\n",
    "std = X_train_r.stack().std(axis=0)\n",
    "\n",
    "# forward fill missing values\n",
    "X_train = X_train_r.copy().stack(dropna=False).groupby(\"subject_id\").ffill()\n",
    "X_test = X_test_r.copy().stack(dropna=False).groupby(\"subject_id\").ffill()\n",
    "X_val = X_val_r.copy().stack(dropna=False).groupby(\"subject_id\").ffill()\n",
    "\n",
    "# remove features with too many missing values\n",
    "missing = X_train.isna().sum() > max_missing * len(X_train)\n",
    "missing = missing[missing].index\n",
    "X_train = X_train.drop(missing, axis=1)\n",
    "X_val = X_val.drop(missing, axis=1)\n",
    "X_test = X_test.drop(missing, axis=1)\n",
    "\n",
    "# impute remaining missing values with the mean of original data and get to hourly\n",
    "means = X_train_r.stack().mean(\n",
    "    axis=0\n",
    ")  # get average of hourly measurement value for each feature\n",
    "X_train = X_train.fillna(means).unstack()\n",
    "X_test = X_test.fillna(means).unstack()\n",
    "X_val = X_val.fillna(means).unstack()\n",
    "\n",
    "\"\"\"ADD DEMOGRAPHICS\"\"\"\n",
    "# convert gender to boolean feature\n",
    "demo = pd.get_dummies(patients[[\"gender\"]], drop_first=True)\n",
    "\n",
    "# replace age of people older than 89 by 90\n",
    "demo[\"age\"] = patients[\"age\"]\n",
    "demo.loc[demo[demo[\"age\"] >= 90].index, \"age\"] = 90\n",
    "\n",
    "# create ethnicity columns\n",
    "demo[\"white\"] = patients[\"ethnicity\"].str.contains(\"WHITE\")\n",
    "demo[\"black\"] = patients[\"ethnicity\"].str.contains(\"BLACK\")\n",
    "demo[\"asian\"] = patients[\"ethnicity\"].str.contains(\"ASIAN\")\n",
    "demo[\"hispanic\"] = patients[\"ethnicity\"].str.contains(\"HISPANIC\")\n",
    "demo[\"other/unknown\"] = ~(\n",
    "    demo[\"white\"] | demo[\"black\"] | demo[\"asian\"] | demo[\"hispanic\"]\n",
    ")\n",
    "\n",
    "# reset index to remove icu id and hadm id\n",
    "demo = demo.reset_index(level=[1, 2], drop=True)\n",
    "demo.columns = pd.MultiIndex.from_product([demo.columns, [-1]])\n",
    "\n",
    "# add demographics to dataframes\n",
    "X_train = X_train.join(demo)\n",
    "X_val = X_val.join(demo)\n",
    "X_test = X_test.join(demo)\n",
    "\n",
    "\"\"\"RESET INDEX\"\"\"\n",
    "y_train = y_train.reindex(X_train.index)\n",
    "y_test = y_test.reindex(X_test.index)\n",
    "y_val = y_val.reindex(X_val.index)\n",
    "\n",
    "\"\"\"PRINT STATS\"\"\"\n",
    "print(\"Time: %.2fs\" % (time.time() - start_time))\n",
    "print(\"Train set: %s rows, %s columns\" % X_train.shape)\n",
    "print(\"Validation set: %s rows, %s columns\" % X_val.shape)\n",
    "print(\"Test set: %s rows, %s columns\" % X_test.shape)"
   ]
  },
  {
   "cell_type": "code",
   "execution_count": 22,
   "metadata": {},
   "outputs": [
    {
     "name": "stderr",
     "output_type": "stream",
     "text": [
      "C:\\Users\\20202474\\AppData\\Local\\Packages\\PythonSoftwareFoundation.Python.3.10_qbz5n2kfra8p0\\LocalCache\\local-packages\\Python310\\site-packages\\sklearn\\utils\\validation.py:1688: FutureWarning: Feature names only support names that are all strings. Got feature names with dtypes: ['tuple']. An error will be raised in 1.2.\n",
      "  warnings.warn(\n"
     ]
    },
    {
     "data": {
      "text/plain": [
       "MLPClassifier(alpha=1e-05, hidden_layer_sizes=(5, 2), random_state=1,\n",
       "              solver='lbfgs')"
      ]
     },
     "execution_count": 22,
     "metadata": {},
     "output_type": "execute_result"
    }
   ],
   "source": [
    "neural_network_classifier = MLPClassifier(solver='lbfgs', alpha=1e-5, hidden_layer_sizes=(5, 2), random_state=1)\n",
    "neural_network_classifier.fit(X_train, y_train)"
   ]
  },
  {
   "cell_type": "code",
   "execution_count": 23,
   "metadata": {},
   "outputs": [
    {
     "name": "stderr",
     "output_type": "stream",
     "text": [
      "C:\\Users\\20202474\\AppData\\Local\\Packages\\PythonSoftwareFoundation.Python.3.10_qbz5n2kfra8p0\\LocalCache\\local-packages\\Python310\\site-packages\\sklearn\\utils\\validation.py:1688: FutureWarning: Feature names only support names that are all strings. Got feature names with dtypes: ['tuple']. An error will be raised in 1.2.\n",
      "  warnings.warn(\n"
     ]
    }
   ],
   "source": [
    "y_true = y_test.to_numpy()\n",
    "y_pred = np.round(neural_network_classifier.predict(X_test))"
   ]
  }
 ],
 "metadata": {
  "interpreter": {
   "hash": "f40e80fd399403f0b74f3f37e59adb9cc84370d9c5fb29453643c3087c62e1db"
  },
  "kernelspec": {
   "display_name": "Python 3.10.5 64-bit (windows store)",
   "language": "python",
   "name": "python3"
  },
  "language_info": {
   "codemirror_mode": {
    "name": "ipython",
    "version": 3
   },
   "file_extension": ".py",
   "mimetype": "text/x-python",
   "name": "python",
   "nbconvert_exporter": "python",
   "pygments_lexer": "ipython3",
   "version": "3.10.5"
  },
  "orig_nbformat": 4
 },
 "nbformat": 4,
 "nbformat_minor": 2
}
