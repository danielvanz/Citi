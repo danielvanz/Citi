{
 "cells": [
  {
   "cell_type": "code",
   "execution_count": 1,
   "metadata": {},
   "outputs": [],
   "source": [
    "# data wrangling\n",
    "import pandas as pd\n",
    "import numpy as np\n",
    "\n",
    "# plotting\n",
    "import matplotlib.pyplot as plt\n",
    "\n",
    "import time\n",
    "\n",
    "from functools import reduce\n",
    "\n",
    "# sklearn\n",
    "from sklearn.model_selection import train_test_split\n",
    "from sklearn.ensemble import RandomForestClassifier\n",
    "from sklearn import tree\n",
    "\n",
    "# local files\n",
    "import prediction_metrics as pm\n",
    "from prediction_metrics import recall_df"
   ]
  },
  {
   "cell_type": "markdown",
   "metadata": {},
   "source": [
    "***Load Data***"
   ]
  },
  {
   "cell_type": "code",
   "execution_count": 2,
   "metadata": {},
   "outputs": [],
   "source": [
    "DATA_FILEPATH = \"../data/all_hourly_data.h5\"\n",
    "\n",
    "patients = pd.read_hdf(DATA_FILEPATH, \"patients\")\n",
    "vitals_labs_mean = pd.read_hdf(DATA_FILEPATH, \"vitals_labs_mean\")\n",
    "interventions = pd.read_hdf(DATA_FILEPATH, \"interventions\")"
   ]
  },
  {
   "cell_type": "markdown",
   "metadata": {},
   "source": [
    "***prepare data***"
   ]
  },
  {
   "cell_type": "code",
   "execution_count": 3,
   "metadata": {},
   "outputs": [],
   "source": [
    "\"\"\"\n",
    "Task Formulation: predict whether a patient will die, given the first 24 hours of their stay\n",
    "\"\"\"\n",
    "\n",
    "# SETTINGS\n",
    "window_size = 24  # the first WINDOW_SIZE hours of the patient's stay\n",
    "gap_time = 6  # the number of hours the patient lived at least after the first WINDOW_SIZE hours (to avoid label leakage, see MIMIC-III Extract paper)\n",
    "test_size = 0.2  # proportion of the data that wil lbe used for testing\n",
    "val_size = 0.125  # proportion of the training data that will be used for validation\n",
    "random_state = 42  # random state is used to set a seed for randomness, which is only relevant for reproducibility purposes\n",
    "max_missing = 0.8  # maximum percentage of missing values after forward fill for a measurement to be dropped"
   ]
  },
  {
   "cell_type": "code",
   "execution_count": 4,
   "metadata": {},
   "outputs": [
    {
     "name": "stdout",
     "output_type": "stream",
     "text": [
      "['WHITE', 'OTHER/UNKOWN', 'BLACK', 'ASIAN', 'HISPANIC']\n",
      "Categories (5, object): ['ASIAN', 'BLACK', 'HISPANIC', 'OTHER/UNKOWN', 'WHITE']\n",
      "(2200954, 42)\n"
     ]
    }
   ],
   "source": [
    "patients_new = patients.reset_index(level=[\"hadm_id\", \"icustay_id\"], drop=True)\n",
    "interventions_new = interventions.reset_index(level=[\"hadm_id\", \"icustay_id\"], drop=True)\n",
    "vitals_labs_mean_new = vitals_labs_mean.reset_index(level=[\"hadm_id\", \"icustay_id\"], drop=True)\n",
    "vitals_labs_mean_new = vitals_labs_mean_new.replace(np.nan,0)\n",
    "\n",
    "vitals_labs_mean_new = vitals_labs_mean_new.droplevel(\n",
    "    level=\"Aggregation Function\", axis=1\n",
    ")\n",
    "\n",
    "patients_new[\"ethnicity\"] = patients_new[\"ethnicity\"].astype(str)\n",
    "patients_new[\"ethnicity\"].mask(patients_new['ethnicity'].str.contains(\"WHITE\"), \"WHITE\", inplace=True)\n",
    "patients_new[\"ethnicity\"].mask(patients_new['ethnicity'].str.contains(\"BLACK\"), \"BLACK\", inplace=True)\n",
    "patients_new[\"ethnicity\"].mask(patients_new['ethnicity'].str.contains(\"ASIAN\"), \"ASIAN\", inplace=True)\n",
    "patients_new[\"ethnicity\"].mask(patients_new['ethnicity'].str.contains(\"HISPANIC\"), \"HISPANIC\", inplace=True)\n",
    "patients_new[\"ethnicity\"].mask(~(\n",
    "    patients_new['ethnicity'].str.contains(\"WHITE\") | \n",
    "    patients_new['ethnicity'].str.contains(\"BLACK\") | \n",
    "    patients_new['ethnicity'].str.contains(\"ASIAN\") | \n",
    "    patients_new['ethnicity'].str.contains(\"HISPANIC\")\n",
    "), \"OTHER/UNKOWN\", inplace=True)\n",
    "patients_new[\"ethnicity\"] = patients_new[\"ethnicity\"].astype('category')\n",
    "patients_new = interventions_new.join(patients_new, how='inner')\n",
    "print(patients_new[\"ethnicity\"].unique())\n",
    "print(patients_new.shape)"
   ]
  },
  {
   "cell_type": "code",
   "execution_count": 5,
   "metadata": {},
   "outputs": [],
   "source": [
    "interventions_new = interventions_new.groupby(level=[\"subject_id\"]).cumsum()\n",
    "vitals_labs_mean_new = vitals_labs_mean_new.groupby(level=[\"subject_id\"]).cumsum()"
   ]
  },
  {
   "cell_type": "code",
   "execution_count": 6,
   "metadata": {},
   "outputs": [
    {
     "name": "stdout",
     "output_type": "stream",
     "text": [
      "Time: 17.53s\n",
      "Original set: 2200954 rows, 14 columns\n",
      "Train set: 1540667 rows, 124 columns\n",
      "Validation set: 220096 rows, 124 columns\n",
      "Test set: 440191 rows, 124 columns\n"
     ]
    }
   ],
   "source": [
    "start_time = time.time()\n",
    "\n",
    "\"\"\"PREPARE VITALS LABES AND INTERVENTIONS\"\"\"\n",
    "# get target variable (died in ICU) of patients that stayed at least GAP_TIME + WINDOW_SIZE hours in the ICU\n",
    "y = patients_new[\"hospital_expire_flag\"]\n",
    "\n",
    "\"\"\"ADD DEMOGRAPHICS\"\"\"\n",
    "X = pd.get_dummies(patients_new[[\"gender\"]], drop_first=True)\n",
    "X[\"age\"] = patients_new[\"age\"]\n",
    "X = X.join(pd.get_dummies(patients_new[\"ethnicity\"], drop_first=True))\n",
    "\n",
    "X = interventions_new.join(X, how=\"inner\")\n",
    "X = X.join(vitals_labs_mean_new)\n",
    "\n",
    "\"\"\"SPLIT DATA\"\"\"\n",
    "# define train/test split based on index\n",
    "X_train, X_test, y_train, y_test = train_test_split(\n",
    "    X, y, test_size=test_size, random_state=random_state\n",
    ")\n",
    "X_train, X_val, y_train, y_val = train_test_split(\n",
    "    X_train, y_train, test_size=val_size, random_state=random_state\n",
    ")\n",
    "\n",
    "\"\"\"RESET INDEX\"\"\"\n",
    "y_train = y_train.reindex(X_train.index)\n",
    "y_test = y_test.reindex(X_test.index)\n",
    "y_val = y_val.reindex(X_val.index)\n",
    "\n",
    "\"\"\"PRINT STATS\"\"\"\n",
    "print(\"Time: %.2fs\" % (time.time() - start_time))\n",
    "print(\"Original set: %s rows, %s columns\" % interventions.shape)\n",
    "print(\"Train set: %s rows, %s columns\" % X_train.shape)\n",
    "print(\"Validation set: %s rows, %s columns\" % X_val.shape)\n",
    "print(\"Test set: %s rows, %s columns\" % X_test.shape)"
   ]
  },
  {
   "cell_type": "markdown",
   "metadata": {},
   "source": [
    "***train linear regression model***"
   ]
  },
  {
   "cell_type": "code",
   "execution_count": 7,
   "metadata": {},
   "outputs": [
    {
     "data": {
      "text/plain": [
       "RandomForestClassifier()"
      ]
     },
     "execution_count": 7,
     "metadata": {},
     "output_type": "execute_result"
    }
   ],
   "source": [
    "random_forest_classifier_model = RandomForestClassifier(n_estimators=100)\n",
    "random_forest_classifier_model.fit(X_train, y_train)"
   ]
  },
  {
   "cell_type": "markdown",
   "metadata": {},
   "source": [
    "***test linear regression model***"
   ]
  },
  {
   "cell_type": "code",
   "execution_count": 8,
   "metadata": {},
   "outputs": [
    {
     "name": "stdout",
     "output_type": "stream",
     "text": [
      "TP: 26856 0.12201948240767665\n",
      "FP: 9 4.089124745565572e-05\n",
      "FN: 631 0.0028669307938354173\n",
      "TN: 192600 0.8750726955510323\n",
      "TPR: 0.9770436933823262\n",
      "FPR: 4.6726788467828604e-05\n",
      "             TPR       FPR   count\n",
      "gender                            \n",
      "F       0.977177  0.000059   96880\n",
      "M       0.976939  0.000037  123216\n",
      "                   TPR       FPR   count\n",
      "ethnicity                               \n",
      "ASIAN         0.974460  0.000000    5469\n",
      "BLACK         0.974009  0.000209   16434\n",
      "HISPANIC      0.973552  0.000000    6961\n",
      "OTHER/UNKOWN  0.974550  0.000032   35329\n",
      "WHITE         0.978195  0.000037  155903\n"
     ]
    }
   ],
   "source": [
    "y_true = y_val.to_list()\n",
    "y_pred = np.round(random_forest_classifier_model.predict(X_val))\n",
    "\n",
    "total_df = patients_new.loc[np.intersect1d(patients_new.index, X_val.index)]\n",
    "total_df[\"true\"] = y_true\n",
    "total_df[\"pred\"] = y_pred\n",
    "\n",
    "print(\"TP:\", pm.TP(y_true, y_pred), pm.TP(y_true, y_pred)/X_val.shape[0])\n",
    "print(\"FP:\", pm.FP(y_true, y_pred), pm.FP(y_true, y_pred)/X_val.shape[0])\n",
    "print(\"FN:\", pm.FN(y_true, y_pred), pm.FN(y_true, y_pred)/X_val.shape[0])\n",
    "print(\"TN:\", pm.TN(y_true, y_pred), pm.TN(y_true, y_pred)/X_val.shape[0])\n",
    "print(\"TPR:\", pm.recall(y_true, y_pred))\n",
    "print(\"FPR:\", pm.FPR(y_true, y_pred))\n",
    "\n",
    "genders = pd.DataFrame()\n",
    "genders[\"TPR\"] = total_df.groupby(\"gender\").apply(pm.recall_df)\n",
    "genders[\"FPR\"] = total_df.groupby(\"gender\").apply(pm.FPR_df)\n",
    "genders[\"count\"] = total_df[[\"true\", \"gender\"]].groupby(\"gender\").count()\n",
    "print(genders)\n",
    "\n",
    "ethnicity = pd.DataFrame()\n",
    "ethnicity[\"TPR\"] = total_df.groupby(\"ethnicity\").apply(pm.recall_df)\n",
    "ethnicity[\"FPR\"] = total_df.groupby(\"ethnicity\").apply(pm.FPR_df)\n",
    "ethnicity[\"count\"] = total_df[[\"true\", \"ethnicity\"]].groupby(\"ethnicity\").count()\n",
    "print(ethnicity)"
   ]
  }
 ],
 "metadata": {
  "interpreter": {
   "hash": "1995d498abb2e094550934aa5a77156bbeec41df4479993fce67cf5a474c2ebd"
  },
  "kernelspec": {
   "display_name": "Python 3.10.4 64-bit",
   "language": "python",
   "name": "python3"
  },
  "language_info": {
   "codemirror_mode": {
    "name": "ipython",
    "version": 3
   },
   "file_extension": ".py",
   "mimetype": "text/x-python",
   "name": "python",
   "nbconvert_exporter": "python",
   "pygments_lexer": "ipython3",
   "version": "3.10.4"
  },
  "orig_nbformat": 4
 },
 "nbformat": 4,
 "nbformat_minor": 2
}
