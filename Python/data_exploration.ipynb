{
 "cells": [
  {
   "cell_type": "code",
   "execution_count": 1,
   "metadata": {},
   "outputs": [],
   "source": [
    "# data wrangling\n",
    "import pandas as pd\n",
    "\n",
    "# plotting\n",
    "import matplotlib.pyplot as plt\n",
    "\n",
    "# other\n",
    "import time\n",
    "\n",
    "# sklearn\n",
    "from sklearn.model_selection import train_test_split\n",
    "\n",
    "# local files\n",
    "from sofascores import compute_sofa"
   ]
  },
  {
   "cell_type": "code",
   "execution_count": 2,
   "metadata": {},
   "outputs": [],
   "source": [
    "# load data\n",
    "DATA_FILEPATH = \"all_hourly_data.h5\"\n",
    "patients = pd.read_hdf(DATA_FILEPATH, \"patients\")\n",
    "vitals_labs_mean = pd.read_hdf(DATA_FILEPATH, \"vitals_labs_mean\")\n",
    "interventions = pd.read_hdf(DATA_FILEPATH, \"interventions\")"
   ]
  },
  {
   "cell_type": "code",
   "execution_count": 14,
   "metadata": {},
   "outputs": [
    {
     "name": "stdout",
     "output_type": "stream",
     "text": [
      "(34472, 28)\n",
      "                              gender              ethnicity        age  \\\n",
      "subject_id hadm_id icustay_id                                            \n",
      "3          145834  211552          M                  WHITE  76.526792   \n",
      "4          185777  294638          F                  WHITE  47.845047   \n",
      "6          107064  228232          F                  WHITE  65.942297   \n",
      "9          150750  220597          M  UNKNOWN/NOT SPECIFIED  41.790228   \n",
      "11         194540  229441          F                  WHITE  50.148295   \n",
      "\n",
      "                              insurance           admittime  \\\n",
      "subject_id hadm_id icustay_id                                 \n",
      "3          145834  211552      Medicare 2101-10-20 19:08:00   \n",
      "4          185777  294638       Private 2191-03-16 00:28:00   \n",
      "6          107064  228232      Medicare 2175-05-30 07:15:00   \n",
      "9          150750  220597      Medicaid 2149-11-09 13:06:00   \n",
      "11         194540  229441       Private 2178-04-16 06:18:00   \n",
      "\n",
      "                                            diagnosis_at_admission  \\\n",
      "subject_id hadm_id icustay_id                                        \n",
      "3          145834  211552                              HYPOTENSION   \n",
      "4          185777  294638      FEVER,DEHYDRATION,FAILURE TO THRIVE   \n",
      "6          107064  228232                CHRONIC RENAL FAILURE/SDA   \n",
      "9          150750  220597                          HEMORRHAGIC CVA   \n",
      "11         194540  229441                               BRAIN MASS   \n",
      "\n",
      "                                        dischtime         discharge_location  \\\n",
      "subject_id hadm_id icustay_id                                                  \n",
      "3          145834  211552     2101-10-31 13:58:00                        SNF   \n",
      "4          185777  294638     2191-03-23 18:41:00  HOME WITH HOME IV PROVIDR   \n",
      "6          107064  228232     2175-06-15 16:00:00           HOME HEALTH CARE   \n",
      "9          150750  220597     2149-11-14 10:15:00               DEAD/EXPIRED   \n",
      "11         194540  229441     2178-05-11 19:00:00           HOME HEALTH CARE   \n",
      "\n",
      "                               fullcode_first  dnr_first  ...  \\\n",
      "subject_id hadm_id icustay_id                             ...   \n",
      "3          145834  211552                 1.0        0.0  ...   \n",
      "4          185777  294638                 1.0        0.0  ...   \n",
      "6          107064  228232                 1.0        0.0  ...   \n",
      "9          150750  220597                 1.0        0.0  ...   \n",
      "11         194540  229441                 1.0        0.0  ...   \n",
      "\n",
      "                                          outtime   los_icu admission_type  \\\n",
      "subject_id hadm_id icustay_id                                                \n",
      "3          145834  211552     2101-10-26 20:43:09  6.064560      EMERGENCY   \n",
      "4          185777  294638     2191-03-17 16:46:31  1.678472      EMERGENCY   \n",
      "6          107064  228232     2175-06-03 13:39:54  3.672917       ELECTIVE   \n",
      "9          150750  220597     2149-11-14 20:52:14  5.323056      EMERGENCY   \n",
      "11         194540  229441     2178-04-17 20:21:05  1.584410      EMERGENCY   \n",
      "\n",
      "                               first_careunit  mort_icu  mort_hosp  \\\n",
      "subject_id hadm_id icustay_id                                        \n",
      "3          145834  211552                MICU         0          0   \n",
      "4          185777  294638                MICU         0          0   \n",
      "6          107064  228232                SICU         0          0   \n",
      "9          150750  220597                MICU         1          1   \n",
      "11         194540  229441                SICU         0          0   \n",
      "\n",
      "                              hospital_expire_flag hospstay_seq  \\\n",
      "subject_id hadm_id icustay_id                                     \n",
      "3          145834  211552                        0            1   \n",
      "4          185777  294638                        0            1   \n",
      "6          107064  228232                        0            1   \n",
      "9          150750  220597                        1            1   \n",
      "11         194540  229441                        0            1   \n",
      "\n",
      "                              readmission_30  max_hours  \n",
      "subject_id hadm_id icustay_id                            \n",
      "3          145834  211552                  0        145  \n",
      "4          185777  294638                  0         40  \n",
      "6          107064  228232                  0         88  \n",
      "9          150750  220597                  0        127  \n",
      "11         194540  229441                  0         38  \n",
      "\n",
      "[5 rows x 28 columns]\n"
     ]
    }
   ],
   "source": [
    "print(patients.shape)\n",
    "print(patients.head())"
   ]
  },
  {
   "cell_type": "code",
   "execution_count": null,
   "metadata": {},
   "outputs": [],
   "source": [
    "print(patients.ethnicity.nunique())\n",
    "for u in patients.ethnicity.unique():\n",
    "    print(u)"
   ]
  },
  {
   "cell_type": "code",
   "execution_count": 18,
   "metadata": {},
   "outputs": [
    {
     "name": "stdout",
     "output_type": "stream",
     "text": [
      "5\n",
      "Medicare\n",
      "Private\n",
      "Medicaid\n",
      "Government\n",
      "Self Pay\n"
     ]
    }
   ],
   "source": [
    "print(patients.insurance.nunique())\n",
    "for u in patients.insurance.unique():\n",
    "    print(u)"
   ]
  },
  {
   "cell_type": "code",
   "execution_count": null,
   "metadata": {},
   "outputs": [],
   "source": [
    "print(patients.insurance.nunique())\n",
    "for u in patients.insurance.unique():\n",
    "    print(u)"
   ]
  }
 ],
 "metadata": {
  "interpreter": {
   "hash": "1995d498abb2e094550934aa5a77156bbeec41df4479993fce67cf5a474c2ebd"
  },
  "kernelspec": {
   "display_name": "Python 3.10.4 64-bit",
   "language": "python",
   "name": "python3"
  },
  "language_info": {
   "codemirror_mode": {
    "name": "ipython",
    "version": 3
   },
   "file_extension": ".py",
   "mimetype": "text/x-python",
   "name": "python",
   "nbconvert_exporter": "python",
   "pygments_lexer": "ipython3",
   "version": "3.10.4"
  },
  "orig_nbformat": 4
 },
 "nbformat": 4,
 "nbformat_minor": 2
}
