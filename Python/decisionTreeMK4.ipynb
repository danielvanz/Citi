{
 "cells": [
  {
   "cell_type": "code",
   "execution_count": 2,
   "metadata": {},
   "outputs": [],
   "source": [
    "# data wrangling\n",
    "import pandas as pd\n",
    "import numpy as np\n",
    "\n",
    "# plotting\n",
    "import matplotlib.pyplot as plt\n",
    "\n",
    "import time\n",
    "\n",
    "from functools import reduce\n",
    "\n",
    "# sklearn\n",
    "from sklearn.model_selection import train_test_split\n",
    "from sklearn.tree import DecisionTreeClassifier\n",
    "\n",
    "# local files\n",
    "import prediction_metrics as pm\n",
    "from prediction_metrics import recall_df"
   ]
  },
  {
   "cell_type": "markdown",
   "metadata": {},
   "source": [
    "***Load Data***"
   ]
  },
  {
   "cell_type": "code",
   "execution_count": 3,
   "metadata": {},
   "outputs": [],
   "source": [
    "DATA_FILEPATH = \"../data/all_hourly_data.h5\"\n",
    "\n",
    "patients = pd.read_hdf(DATA_FILEPATH, \"patients\")\n",
    "vitals_labs_mean = pd.read_hdf(DATA_FILEPATH, \"vitals_labs_mean\")\n",
    "interventions = pd.read_hdf(DATA_FILEPATH, \"interventions\")"
   ]
  },
  {
   "cell_type": "markdown",
   "metadata": {},
   "source": [
    "***prepare data***"
   ]
  },
  {
   "cell_type": "code",
   "execution_count": 4,
   "metadata": {},
   "outputs": [],
   "source": [
    "\"\"\"\n",
    "Task Formulation: predict whether a patient will die, given the first 24 hours of their stay\n",
    "\"\"\"\n",
    "\n",
    "# SETTINGS\n",
    "window_size = 24  # the first WINDOW_SIZE hours of the patient's stay\n",
    "gap_time = 6  # the number of hours the patient lived at least after the first WINDOW_SIZE hours (to avoid label leakage, see MIMIC-III Extract paper)\n",
    "test_size = 0.2  # proportion of the data that wil lbe used for testing\n",
    "val_size = 0.125  # proportion of the training data that will be used for validation\n",
    "random_state = 42  # random state is used to set a seed for randomness, which is only relevant for reproducibility purposes\n",
    "max_missing = 0.8  # maximum percentage of missing values after forward fill for a measurement to be dropped"
   ]
  },
  {
   "cell_type": "code",
   "execution_count": 5,
   "metadata": {},
   "outputs": [
    {
     "name": "stdout",
     "output_type": "stream",
     "text": [
      "(2200954, 42)\n"
     ]
    }
   ],
   "source": [
    "patients_new = patients.reset_index(level=[\"hadm_id\", \"icustay_id\"], drop=True)\n",
    "interventions_new = interventions.reset_index(level=[\"hadm_id\", \"icustay_id\"], drop=True)\n",
    "vitals_labs_mean_new = vitals_labs_mean.reset_index(level=[\"hadm_id\", \"icustay_id\"], drop=True)\n",
    "vitals_labs_mean_new = vitals_labs_mean_new.replace(np.nan,0)\n",
    "\n",
    "vitals_labs_mean_new = vitals_labs_mean_new.droplevel(\n",
    "    level=\"Aggregation Function\", axis=1\n",
    ")\n",
    "\n",
    "patients_new = interventions_new.join(patients_new, how='inner')\n",
    "print(patients_new.shape)"
   ]
  },
  {
   "cell_type": "code",
   "execution_count": 6,
   "metadata": {},
   "outputs": [],
   "source": [
    "interventions_new = interventions_new.groupby(level=[\"subject_id\"]).cumsum()\n",
    "vitals_labs_mean_new = vitals_labs_mean_new.groupby(level=[\"subject_id\"]).cumsum()"
   ]
  },
  {
   "cell_type": "code",
   "execution_count": 7,
   "metadata": {},
   "outputs": [
    {
     "name": "stdout",
     "output_type": "stream",
     "text": [
      "Time: 22.67s\n",
      "Original set: 2200954 rows, 14 columns\n",
      "Train set: 1540667 rows, 160 columns\n",
      "Validation set: 220096 rows, 160 columns\n",
      "Test set: 440191 rows, 160 columns\n"
     ]
    }
   ],
   "source": [
    "start_time = time.time()\n",
    "\n",
    "\"\"\"PREPARE VITALS LABES AND INTERVENTIONS\"\"\"\n",
    "# get target variable (died in ICU) of patients that stayed at least GAP_TIME + WINDOW_SIZE hours in the ICU\n",
    "y = patients_new[\"hospital_expire_flag\"]\n",
    "\n",
    "\"\"\"ADD DEMOGRAPHICS\"\"\"\n",
    "X = pd.get_dummies(patients_new[[\"gender\"]], drop_first=True)\n",
    "X[\"age\"] = patients_new[\"age\"]\n",
    "X = X.join(pd.get_dummies(patients_new[\"ethnicity\"], drop_first=True))\n",
    "\n",
    "X = interventions_new.join(X, how=\"inner\")\n",
    "X = X.join(vitals_labs_mean_new)\n",
    "\n",
    "\"\"\"SPLIT DATA\"\"\"\n",
    "# define train/test split based on index\n",
    "X_train, X_test, y_train, y_test = train_test_split(\n",
    "    X, y, test_size=test_size, random_state=random_state\n",
    ")\n",
    "X_train, X_val, y_train, y_val = train_test_split(\n",
    "    X_train, y_train, test_size=val_size, random_state=random_state\n",
    ")\n",
    "\n",
    "\"\"\"RESET INDEX\"\"\"\n",
    "y_train = y_train.reindex(X_train.index)\n",
    "y_test = y_test.reindex(X_test.index)\n",
    "y_val = y_val.reindex(X_val.index)\n",
    "\n",
    "\"\"\"PRINT STATS\"\"\"\n",
    "print(\"Time: %.2fs\" % (time.time() - start_time))\n",
    "print(\"Original set: %s rows, %s columns\" % interventions.shape)\n",
    "print(\"Train set: %s rows, %s columns\" % X_train.shape)\n",
    "print(\"Validation set: %s rows, %s columns\" % X_val.shape)\n",
    "print(\"Test set: %s rows, %s columns\" % X_test.shape)"
   ]
  },
  {
   "cell_type": "markdown",
   "metadata": {},
   "source": [
    "***train linear regression model***"
   ]
  },
  {
   "cell_type": "code",
   "execution_count": 8,
   "metadata": {},
   "outputs": [
    {
     "data": {
      "text/plain": [
       "DecisionTreeClassifier()"
      ]
     },
     "execution_count": 8,
     "metadata": {},
     "output_type": "execute_result"
    }
   ],
   "source": [
    "decision_tree_classifier_model = DecisionTreeClassifier()\n",
    "decision_tree_classifier_model.fit(X_train, y_train)"
   ]
  },
  {
   "cell_type": "markdown",
   "metadata": {},
   "source": [
    "***test linear regression model***"
   ]
  },
  {
   "cell_type": "code",
   "execution_count": 13,
   "metadata": {},
   "outputs": [
    {
     "name": "stdout",
     "output_type": "stream",
     "text": [
      "gender\n",
      "F    0.974595\n",
      "M    0.976862\n",
      "dtype: float64\n"
     ]
    },
    {
     "ename": "KeyError",
     "evalue": "'ethnicity'",
     "output_type": "error",
     "traceback": [
      "\u001b[1;31m---------------------------------------------------------------------------\u001b[0m",
      "\u001b[1;31mKeyError\u001b[0m                                  Traceback (most recent call last)",
      "\u001b[1;32md:\\Documents\\Responsible Data Science\\group assignment\\Citi\\Python\\decisionTreeMK4.ipynb Cell 12'\u001b[0m in \u001b[0;36m<cell line: 13>\u001b[1;34m()\u001b[0m\n\u001b[0;32m     <a href='vscode-notebook-cell:/d%3A/Documents/Responsible%20Data%20Science/group%20assignment/Citi/Python/decisionTreeMK4.ipynb#ch0000011?line=10'>11</a>\u001b[0m ehtnicities \u001b[39m=\u001b[39m total_df\u001b[39m.\u001b[39mgroupby(\u001b[39m\"\u001b[39m\u001b[39methnicity\u001b[39m\u001b[39m\"\u001b[39m)\u001b[39m.\u001b[39mapply(pm\u001b[39m.\u001b[39mrecall_df)\n\u001b[0;32m     <a href='vscode-notebook-cell:/d%3A/Documents/Responsible%20Data%20Science/group%20assignment/Citi/Python/decisionTreeMK4.ipynb#ch0000011?line=11'>12</a>\u001b[0m ehtnicities \u001b[39m=\u001b[39m pd\u001b[39m.\u001b[39mDataFrame(ehtnicities)\n\u001b[1;32m---> <a href='vscode-notebook-cell:/d%3A/Documents/Responsible%20Data%20Science/group%20assignment/Citi/Python/decisionTreeMK4.ipynb#ch0000011?line=12'>13</a>\u001b[0m ehtnicities[\u001b[39m\"\u001b[39m\u001b[39mcount\u001b[39m\u001b[39m\"\u001b[39m] \u001b[39m=\u001b[39m total_df[\u001b[39m\"\u001b[39;49m\u001b[39mtrue\u001b[39;49m\u001b[39m\"\u001b[39;49m]\u001b[39m.\u001b[39;49mgroupby(\u001b[39m\"\u001b[39;49m\u001b[39methnicity\u001b[39;49m\u001b[39m\"\u001b[39;49m)\u001b[39m.\u001b[39mcount()\n\u001b[0;32m     <a href='vscode-notebook-cell:/d%3A/Documents/Responsible%20Data%20Science/group%20assignment/Citi/Python/decisionTreeMK4.ipynb#ch0000011?line=13'>14</a>\u001b[0m \u001b[39mprint\u001b[39m(ehtnicities)\n",
      "File \u001b[1;32mD:\\Programs\\Python\\Python310\\lib\\site-packages\\pandas\\core\\series.py:1922\u001b[0m, in \u001b[0;36mSeries.groupby\u001b[1;34m(self, by, axis, level, as_index, sort, group_keys, squeeze, observed, dropna)\u001b[0m\n\u001b[0;32m   <a href='file:///d%3A/Programs/Python/Python310/lib/site-packages/pandas/core/series.py?line=1917'>1918</a>\u001b[0m axis \u001b[39m=\u001b[39m \u001b[39mself\u001b[39m\u001b[39m.\u001b[39m_get_axis_number(axis)\n\u001b[0;32m   <a href='file:///d%3A/Programs/Python/Python310/lib/site-packages/pandas/core/series.py?line=1919'>1920</a>\u001b[0m \u001b[39m# error: Argument \"squeeze\" to \"SeriesGroupBy\" has incompatible type\u001b[39;00m\n\u001b[0;32m   <a href='file:///d%3A/Programs/Python/Python310/lib/site-packages/pandas/core/series.py?line=1920'>1921</a>\u001b[0m \u001b[39m# \"Union[bool, NoDefault]\"; expected \"bool\"\u001b[39;00m\n\u001b[1;32m-> <a href='file:///d%3A/Programs/Python/Python310/lib/site-packages/pandas/core/series.py?line=1921'>1922</a>\u001b[0m \u001b[39mreturn\u001b[39;00m SeriesGroupBy(\n\u001b[0;32m   <a href='file:///d%3A/Programs/Python/Python310/lib/site-packages/pandas/core/series.py?line=1922'>1923</a>\u001b[0m     obj\u001b[39m=\u001b[39;49m\u001b[39mself\u001b[39;49m,\n\u001b[0;32m   <a href='file:///d%3A/Programs/Python/Python310/lib/site-packages/pandas/core/series.py?line=1923'>1924</a>\u001b[0m     keys\u001b[39m=\u001b[39;49mby,\n\u001b[0;32m   <a href='file:///d%3A/Programs/Python/Python310/lib/site-packages/pandas/core/series.py?line=1924'>1925</a>\u001b[0m     axis\u001b[39m=\u001b[39;49maxis,\n\u001b[0;32m   <a href='file:///d%3A/Programs/Python/Python310/lib/site-packages/pandas/core/series.py?line=1925'>1926</a>\u001b[0m     level\u001b[39m=\u001b[39;49mlevel,\n\u001b[0;32m   <a href='file:///d%3A/Programs/Python/Python310/lib/site-packages/pandas/core/series.py?line=1926'>1927</a>\u001b[0m     as_index\u001b[39m=\u001b[39;49mas_index,\n\u001b[0;32m   <a href='file:///d%3A/Programs/Python/Python310/lib/site-packages/pandas/core/series.py?line=1927'>1928</a>\u001b[0m     sort\u001b[39m=\u001b[39;49msort,\n\u001b[0;32m   <a href='file:///d%3A/Programs/Python/Python310/lib/site-packages/pandas/core/series.py?line=1928'>1929</a>\u001b[0m     group_keys\u001b[39m=\u001b[39;49mgroup_keys,\n\u001b[0;32m   <a href='file:///d%3A/Programs/Python/Python310/lib/site-packages/pandas/core/series.py?line=1929'>1930</a>\u001b[0m     squeeze\u001b[39m=\u001b[39;49msqueeze,  \u001b[39m# type: ignore[arg-type]\u001b[39;49;00m\n\u001b[0;32m   <a href='file:///d%3A/Programs/Python/Python310/lib/site-packages/pandas/core/series.py?line=1930'>1931</a>\u001b[0m     observed\u001b[39m=\u001b[39;49mobserved,\n\u001b[0;32m   <a href='file:///d%3A/Programs/Python/Python310/lib/site-packages/pandas/core/series.py?line=1931'>1932</a>\u001b[0m     dropna\u001b[39m=\u001b[39;49mdropna,\n\u001b[0;32m   <a href='file:///d%3A/Programs/Python/Python310/lib/site-packages/pandas/core/series.py?line=1932'>1933</a>\u001b[0m )\n",
      "File \u001b[1;32mD:\\Programs\\Python\\Python310\\lib\\site-packages\\pandas\\core\\groupby\\groupby.py:882\u001b[0m, in \u001b[0;36mGroupBy.__init__\u001b[1;34m(self, obj, keys, axis, level, grouper, exclusions, selection, as_index, sort, group_keys, squeeze, observed, mutated, dropna)\u001b[0m\n\u001b[0;32m    <a href='file:///d%3A/Programs/Python/Python310/lib/site-packages/pandas/core/groupby/groupby.py?line=878'>879</a>\u001b[0m \u001b[39mif\u001b[39;00m grouper \u001b[39mis\u001b[39;00m \u001b[39mNone\u001b[39;00m:\n\u001b[0;32m    <a href='file:///d%3A/Programs/Python/Python310/lib/site-packages/pandas/core/groupby/groupby.py?line=879'>880</a>\u001b[0m     \u001b[39mfrom\u001b[39;00m \u001b[39mpandas\u001b[39;00m\u001b[39m.\u001b[39;00m\u001b[39mcore\u001b[39;00m\u001b[39m.\u001b[39;00m\u001b[39mgroupby\u001b[39;00m\u001b[39m.\u001b[39;00m\u001b[39mgrouper\u001b[39;00m \u001b[39mimport\u001b[39;00m get_grouper\n\u001b[1;32m--> <a href='file:///d%3A/Programs/Python/Python310/lib/site-packages/pandas/core/groupby/groupby.py?line=881'>882</a>\u001b[0m     grouper, exclusions, obj \u001b[39m=\u001b[39m get_grouper(\n\u001b[0;32m    <a href='file:///d%3A/Programs/Python/Python310/lib/site-packages/pandas/core/groupby/groupby.py?line=882'>883</a>\u001b[0m         obj,\n\u001b[0;32m    <a href='file:///d%3A/Programs/Python/Python310/lib/site-packages/pandas/core/groupby/groupby.py?line=883'>884</a>\u001b[0m         keys,\n\u001b[0;32m    <a href='file:///d%3A/Programs/Python/Python310/lib/site-packages/pandas/core/groupby/groupby.py?line=884'>885</a>\u001b[0m         axis\u001b[39m=\u001b[39;49maxis,\n\u001b[0;32m    <a href='file:///d%3A/Programs/Python/Python310/lib/site-packages/pandas/core/groupby/groupby.py?line=885'>886</a>\u001b[0m         level\u001b[39m=\u001b[39;49mlevel,\n\u001b[0;32m    <a href='file:///d%3A/Programs/Python/Python310/lib/site-packages/pandas/core/groupby/groupby.py?line=886'>887</a>\u001b[0m         sort\u001b[39m=\u001b[39;49msort,\n\u001b[0;32m    <a href='file:///d%3A/Programs/Python/Python310/lib/site-packages/pandas/core/groupby/groupby.py?line=887'>888</a>\u001b[0m         observed\u001b[39m=\u001b[39;49mobserved,\n\u001b[0;32m    <a href='file:///d%3A/Programs/Python/Python310/lib/site-packages/pandas/core/groupby/groupby.py?line=888'>889</a>\u001b[0m         mutated\u001b[39m=\u001b[39;49m\u001b[39mself\u001b[39;49m\u001b[39m.\u001b[39;49mmutated,\n\u001b[0;32m    <a href='file:///d%3A/Programs/Python/Python310/lib/site-packages/pandas/core/groupby/groupby.py?line=889'>890</a>\u001b[0m         dropna\u001b[39m=\u001b[39;49m\u001b[39mself\u001b[39;49m\u001b[39m.\u001b[39;49mdropna,\n\u001b[0;32m    <a href='file:///d%3A/Programs/Python/Python310/lib/site-packages/pandas/core/groupby/groupby.py?line=890'>891</a>\u001b[0m     )\n\u001b[0;32m    <a href='file:///d%3A/Programs/Python/Python310/lib/site-packages/pandas/core/groupby/groupby.py?line=892'>893</a>\u001b[0m \u001b[39mself\u001b[39m\u001b[39m.\u001b[39mobj \u001b[39m=\u001b[39m obj\n\u001b[0;32m    <a href='file:///d%3A/Programs/Python/Python310/lib/site-packages/pandas/core/groupby/groupby.py?line=893'>894</a>\u001b[0m \u001b[39mself\u001b[39m\u001b[39m.\u001b[39maxis \u001b[39m=\u001b[39m obj\u001b[39m.\u001b[39m_get_axis_number(axis)\n",
      "File \u001b[1;32mD:\\Programs\\Python\\Python310\\lib\\site-packages\\pandas\\core\\groupby\\grouper.py:882\u001b[0m, in \u001b[0;36mget_grouper\u001b[1;34m(obj, key, axis, level, sort, observed, mutated, validate, dropna)\u001b[0m\n\u001b[0;32m    <a href='file:///d%3A/Programs/Python/Python310/lib/site-packages/pandas/core/groupby/grouper.py?line=879'>880</a>\u001b[0m         in_axis, level, gpr \u001b[39m=\u001b[39m \u001b[39mFalse\u001b[39;00m, gpr, \u001b[39mNone\u001b[39;00m\n\u001b[0;32m    <a href='file:///d%3A/Programs/Python/Python310/lib/site-packages/pandas/core/groupby/grouper.py?line=880'>881</a>\u001b[0m     \u001b[39melse\u001b[39;00m:\n\u001b[1;32m--> <a href='file:///d%3A/Programs/Python/Python310/lib/site-packages/pandas/core/groupby/grouper.py?line=881'>882</a>\u001b[0m         \u001b[39mraise\u001b[39;00m \u001b[39mKeyError\u001b[39;00m(gpr)\n\u001b[0;32m    <a href='file:///d%3A/Programs/Python/Python310/lib/site-packages/pandas/core/groupby/grouper.py?line=882'>883</a>\u001b[0m \u001b[39melif\u001b[39;00m \u001b[39misinstance\u001b[39m(gpr, Grouper) \u001b[39mand\u001b[39;00m gpr\u001b[39m.\u001b[39mkey \u001b[39mis\u001b[39;00m \u001b[39mnot\u001b[39;00m \u001b[39mNone\u001b[39;00m:\n\u001b[0;32m    <a href='file:///d%3A/Programs/Python/Python310/lib/site-packages/pandas/core/groupby/grouper.py?line=883'>884</a>\u001b[0m     \u001b[39m# Add key to exclusions\u001b[39;00m\n\u001b[0;32m    <a href='file:///d%3A/Programs/Python/Python310/lib/site-packages/pandas/core/groupby/grouper.py?line=884'>885</a>\u001b[0m     exclusions\u001b[39m.\u001b[39madd(gpr\u001b[39m.\u001b[39mkey)\n",
      "\u001b[1;31mKeyError\u001b[0m: 'ethnicity'"
     ]
    }
   ],
   "source": [
    "y_true = y_test.to_list()\n",
    "y_pred = np.round(decision_tree_classifier_model.predict(X_test))\n",
    "\n",
    "total_df = patients_new.loc[np.intersect1d(patients_new.index, X_test.index)]\n",
    "total_df[\"true\"] = y_true\n",
    "total_df[\"pred\"] = y_pred\n",
    "\n",
    "genders = total_df.groupby(\"gender\").apply(pm.recall_df)\n",
    "print(genders)\n",
    "\n",
    "ehtnicities = total_df.groupby(\"ethnicity\").apply(pm.recall_df)\n",
    "ehtnicities = pd.DataFrame(ehtnicities)\n",
    "ehtnicities[\"count\"] = total_df[\"true\"].groupby(\"ethnicity\").count()\n",
    "print(ehtnicities)\n",
    "\n",
    "# print(\"TP:\", pm.TP(y_true, y_pred))\n",
    "# print(\"FP:\", pm.FP(y_true, y_pred))\n",
    "# print(\"TN:\", pm.TN(y_true, y_pred))\n",
    "# print(\"FN:\", pm.FN(y_true, y_pred))\n",
    "# print(\"Recall:\", pm.recall(y_true, y_pred))"
   ]
  }
 ],
 "metadata": {
  "interpreter": {
   "hash": "1995d498abb2e094550934aa5a77156bbeec41df4479993fce67cf5a474c2ebd"
  },
  "kernelspec": {
   "display_name": "Python 3.10.4 64-bit",
   "language": "python",
   "name": "python3"
  },
  "language_info": {
   "codemirror_mode": {
    "name": "ipython",
    "version": 3
   },
   "file_extension": ".py",
   "mimetype": "text/x-python",
   "name": "python",
   "nbconvert_exporter": "python",
   "pygments_lexer": "ipython3",
   "version": "3.10.4"
  },
  "orig_nbformat": 4
 },
 "nbformat": 4,
 "nbformat_minor": 2
}
